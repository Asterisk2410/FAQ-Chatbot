{
 "cells": [
  {
   "cell_type": "code",
   "execution_count": 26,
   "metadata": {},
   "outputs": [
    {
     "name": "stdout",
     "output_type": "stream",
     "text": [
      "jmd shree ganesha\n"
     ]
    }
   ],
   "source": [
    "print('jmd shree ganesha')"
   ]
  },
  {
   "cell_type": "code",
   "execution_count": 27,
   "metadata": {},
   "outputs": [],
   "source": [
    "from langchain.prompts import PromptTemplate\n",
    "from langchain.chains.retrieval_qa.base import RetrievalQA\n",
    "from langchain.vectorstores import chroma\n",
    "from langchain_community.embeddings import HuggingFaceEmbeddings\n",
    "from langchain_community.document_loaders import PyPDFLoader, DirectoryLoader\n",
    "from langchain.text_splitter import RecursiveCharacterTextSplitter\n",
    "from langchain.llms import ctransformers\n",
    "import os\n"
   ]
  },
  {
   "cell_type": "code",
   "execution_count": 28,
   "metadata": {},
   "outputs": [],
   "source": [
    "dataset = r\"C:\\Users\\Admin\\Desktop\\Aster\\FAQ Chatbot\\FAQ-Chatbot\\data\""
   ]
  },
  {
   "cell_type": "code",
   "execution_count": 29,
   "metadata": {},
   "outputs": [],
   "source": [
    "#Extract data from the PDF\n",
    "def load_pdf(data):\n",
    "    loader = DirectoryLoader(data,\n",
    "                    glob=\"*.pdf\",\n",
    "                    loader_cls=PyPDFLoader)\n",
    "    \n",
    "    documents = loader.load()\n",
    "\n",
    "    return documents"
   ]
  },
  {
   "cell_type": "code",
   "execution_count": 30,
   "metadata": {},
   "outputs": [],
   "source": [
    "extracted_data = load_pdf(dataset)"
   ]
  },
  {
   "cell_type": "code",
   "execution_count": 31,
   "metadata": {},
   "outputs": [],
   "source": [
    "def text_splitter(data_pdf):\n",
    "    splitter = RecursiveCharacterTextSplitter(chunk_size=150, chunk_overlap=10)\n",
    "    chunks = splitter.split_documents(data_pdf)\n",
    "    \n",
    "    return chunks"
   ]
  },
  {
   "cell_type": "code",
   "execution_count": 32,
   "metadata": {},
   "outputs": [],
   "source": [
    "text_split_chunks = text_splitter(extracted_data)"
   ]
  },
  {
   "cell_type": "code",
   "execution_count": 33,
   "metadata": {},
   "outputs": [
    {
     "data": {
      "text/plain": [
       "[Document(page_content='Yes, you can book appointments and many treatments directly with us. For most procedures, a \\nGP referral is required.', metadata={'source': 'C:\\\\Users\\\\Admin\\\\Desktop\\\\Aster\\\\FAQ Chatbot\\\\FAQ-Chatbot\\\\data\\\\dataset.pdf', 'page': 0}),\n",
       " Document(page_content='If you are insured, we also recommend that you check with your insurer that you are covered to \\nsee your preferred consultant at our hospital.', metadata={'source': 'C:\\\\Users\\\\Admin\\\\Desktop\\\\Aster\\\\FAQ Chatbot\\\\FAQ-Chatbot\\\\data\\\\dataset.pdf', 'page': 0}),\n",
       " Document(page_content='You can easily book an appointment online with many of our consultants. To find a consultant', metadata={'source': 'C:\\\\Users\\\\Admin\\\\Desktop\\\\Aster\\\\FAQ Chatbot\\\\FAQ-Chatbot\\\\data\\\\dataset.pdf', 'page': 0}),\n",
       " Document(page_content='near you, please clic k here. For more information, please call 0330 173 8200.', metadata={'source': 'C:\\\\Users\\\\Admin\\\\Desktop\\\\Aster\\\\FAQ Chatbot\\\\FAQ-Chatbot\\\\data\\\\dataset.pdf', 'page': 0}),\n",
       " Document(page_content='We are proud to work with expert health professionals who specialize in a wide range of', metadata={'source': 'C:\\\\Users\\\\Admin\\\\Desktop\\\\Aster\\\\FAQ Chatbot\\\\FAQ-Chatbot\\\\data\\\\dataset.pdf', 'page': 0}),\n",
       " Document(page_content='treatments and procedures across the UK. To find a consultant near you, please click here.', metadata={'source': 'C:\\\\Users\\\\Admin\\\\Desktop\\\\Aster\\\\FAQ Chatbot\\\\FAQ-Chatbot\\\\data\\\\dataset.pdf', 'page': 0}),\n",
       " Document(page_content='Consultation fees vary as each consultant sets their own fee.', metadata={'source': 'C:\\\\Users\\\\Admin\\\\Desktop\\\\Aster\\\\FAQ Chatbot\\\\FAQ-Chatbot\\\\data\\\\dataset.pdf', 'page': 0}),\n",
       " Document(page_content='If your consultant advises that you require additional tests or scans during your initial appointment,', metadata={'source': 'C:\\\\Users\\\\Admin\\\\Desktop\\\\Aster\\\\FAQ Chatbot\\\\FAQ-Chatbot\\\\data\\\\dataset.pdf', 'page': 0}),\n",
       " Document(page_content='these costs will not be included in your initial consultation fee. Your consultant and hospital team', metadata={'source': 'C:\\\\Users\\\\Admin\\\\Desktop\\\\Aster\\\\FAQ Chatbot\\\\FAQ-Chatbot\\\\data\\\\dataset.pdf', 'page': 0}),\n",
       " Document(page_content='will con firm these costs for you at that time.  \\nIf you require further information, please call us on 0330 173 8200..', metadata={'source': 'C:\\\\Users\\\\Admin\\\\Desktop\\\\Aster\\\\FAQ Chatbot\\\\FAQ-Chatbot\\\\data\\\\dataset.pdf', 'page': 0}),\n",
       " Document(page_content='A GP referral is required for most procedures as this will ensure that you are booked in for the', metadata={'source': 'C:\\\\Users\\\\Admin\\\\Desktop\\\\Aster\\\\FAQ Chatbot\\\\FAQ-Chatbot\\\\data\\\\dataset.pdf', 'page': 0}),\n",
       " Document(page_content='appropriate speciality. There may be some treatme nts where a referral is not needed. For further', metadata={'source': 'C:\\\\Users\\\\Admin\\\\Desktop\\\\Aster\\\\FAQ Chatbot\\\\FAQ-Chatbot\\\\data\\\\dataset.pdf', 'page': 0}),\n",
       " Document(page_content='information, please give us a call on 0330 173 8200.', metadata={'source': 'C:\\\\Users\\\\Admin\\\\Desktop\\\\Aster\\\\FAQ Chatbot\\\\FAQ-Chatbot\\\\data\\\\dataset.pdf', 'page': 0}),\n",
       " Document(page_content='Nuffield Health also offers private GP services across the UK. To find your nearest location and', metadata={'source': 'C:\\\\Users\\\\Admin\\\\Desktop\\\\Aster\\\\FAQ Chatbot\\\\FAQ-Chatbot\\\\data\\\\dataset.pdf', 'page': 0}),\n",
       " Document(page_content='for more information about our GP services, please click h ere.', metadata={'source': 'C:\\\\Users\\\\Admin\\\\Desktop\\\\Aster\\\\FAQ Chatbot\\\\FAQ-Chatbot\\\\data\\\\dataset.pdf', 'page': 0}),\n",
       " Document(page_content='We will always do our best to find an appointment at a time that is convenient for you. For most', metadata={'source': 'C:\\\\Users\\\\Admin\\\\Desktop\\\\Aster\\\\FAQ Chatbot\\\\FAQ-Chatbot\\\\data\\\\dataset.pdf', 'page': 0}),\n",
       " Document(page_content='initial appointments, the wait time will vary between a few days and a few weeks.', metadata={'source': 'C:\\\\Users\\\\Admin\\\\Desktop\\\\Aster\\\\FAQ Chatbot\\\\FAQ-Chatbot\\\\data\\\\dataset.pdf', 'page': 0}),\n",
       " Document(page_content='Many of our consultants list their outpatient clinic days and times on our website and you can also', metadata={'source': 'C:\\\\Users\\\\Admin\\\\Desktop\\\\Aster\\\\FAQ Chatbot\\\\FAQ-Chatbot\\\\data\\\\dataset.pdf', 'page': 0}),\n",
       " Document(page_content='book an appointment online. To find a consultant near you, please click here. You can also call', metadata={'source': 'C:\\\\Users\\\\Admin\\\\Desktop\\\\Aster\\\\FAQ Chatbot\\\\FAQ-Chatbot\\\\data\\\\dataset.pdf', 'page': 0}),\n",
       " Document(page_content='us on 0330 173 8200 to confirm appointment availability.  \\nIf you require further treatment, your consultant will discuss the next st eps with you.', metadata={'source': 'C:\\\\Users\\\\Admin\\\\Desktop\\\\Aster\\\\FAQ Chatbot\\\\FAQ-Chatbot\\\\data\\\\dataset.pdf', 'page': 0}),\n",
       " Document(page_content='Each treatment plan is different. You can take a look at our treatment guide prices before your \\ninitial consultation.', metadata={'source': 'C:\\\\Users\\\\Admin\\\\Desktop\\\\Aster\\\\FAQ Chatbot\\\\FAQ-Chatbot\\\\data\\\\dataset.pdf', 'page': 0}),\n",
       " Document(page_content='We will offer you an all -inclusive procedure price following your initial consultation. For your peace', metadata={'source': 'C:\\\\Users\\\\Admin\\\\Desktop\\\\Aster\\\\FAQ Chatbot\\\\FAQ-Chatbot\\\\data\\\\dataset.pdf', 'page': 0}),\n",
       " Document(page_content='of mind, this covers  all of your treatment costs, including aftercare, so that you do not have to \\nworry about unexpected bills.', metadata={'source': 'C:\\\\Users\\\\Admin\\\\Desktop\\\\Aster\\\\FAQ Chatbot\\\\FAQ-Chatbot\\\\data\\\\dataset.pdf', 'page': 0}),\n",
       " Document(page_content='If you find an alternative private hospital in your local area offering a better price for the same', metadata={'source': 'C:\\\\Users\\\\Admin\\\\Desktop\\\\Aster\\\\FAQ Chatbot\\\\FAQ-Chatbot\\\\data\\\\dataset.pdf', 'page': 0}),\n",
       " Document(page_content='procedure, sold with the same service conditions , we’ll lower our price to equal it. This is our \\nPromise to you.', metadata={'source': 'C:\\\\Users\\\\Admin\\\\Desktop\\\\Aster\\\\FAQ Chatbot\\\\FAQ-Chatbot\\\\data\\\\dataset.pdf', 'page': 0}),\n",
       " Document(page_content='There are a few ways you can pay for your treatment:  \\n1.You can choose to pay for your consultation and treatment yourself.', metadata={'source': 'C:\\\\Users\\\\Admin\\\\Desktop\\\\Aster\\\\FAQ Chatbot\\\\FAQ-Chatbot\\\\data\\\\dataset.pdf', 'page': 0}),\n",
       " Document(page_content='2.You can spread the cost of your treatment with a personal medica l loan through Chrysalis \\nFinance.', metadata={'source': 'C:\\\\Users\\\\Admin\\\\Desktop\\\\Aster\\\\FAQ Chatbot\\\\FAQ-Chatbot\\\\data\\\\dataset.pdf', 'page': 0}),\n",
       " Document(page_content='3.If you have medical insurance, you will need to liaise closely with your insurance provider \\nthroughout your treatment.', metadata={'source': 'C:\\\\Users\\\\Admin\\\\Desktop\\\\Aster\\\\FAQ Chatbot\\\\FAQ-Chatbot\\\\data\\\\dataset.pdf', 'page': 0}),\n",
       " Document(page_content='We recommend you check your excess with your insurance provider to know the level of coverage \\nthey pr ovide you.', metadata={'source': 'C:\\\\Users\\\\Admin\\\\Desktop\\\\Aster\\\\FAQ Chatbot\\\\FAQ-Chatbot\\\\data\\\\dataset.pdf', 'page': 1}),\n",
       " Document(page_content='We understand that you may be worried or nervous about being examined or treated, so we have', metadata={'source': 'C:\\\\Users\\\\Admin\\\\Desktop\\\\Aster\\\\FAQ Chatbot\\\\FAQ-Chatbot\\\\data\\\\dataset.pdf', 'page': 1}),\n",
       " Document(page_content='chaperons who can be with you. If you would like to bring a friend or family member, that is also \\nfine.', metadata={'source': 'C:\\\\Users\\\\Admin\\\\Desktop\\\\Aster\\\\FAQ Chatbot\\\\FAQ-Chatbot\\\\data\\\\dataset.pdf', 'page': 1}),\n",
       " Document(page_content='fine. \\n \\nPlease let our staff know your requirements when you contact us. We are happy to make suitable', metadata={'source': 'C:\\\\Users\\\\Admin\\\\Desktop\\\\Aster\\\\FAQ Chatbot\\\\FAQ-Chatbot\\\\data\\\\dataset.pdf', 'page': 1}),\n",
       " Document(page_content='arrangements before your visit. If you’d like to bring a friend or family member, please feel free to \\ndo so.', metadata={'source': 'C:\\\\Users\\\\Admin\\\\Desktop\\\\Aster\\\\FAQ Chatbot\\\\FAQ-Chatbot\\\\data\\\\dataset.pdf', 'page': 1}),\n",
       " Document(page_content='You can discuss your medication or medical conditio ns with your consultant during your initial', metadata={'source': 'C:\\\\Users\\\\Admin\\\\Desktop\\\\Aster\\\\FAQ Chatbot\\\\FAQ-Chatbot\\\\data\\\\dataset.pdf', 'page': 1}),\n",
       " Document(page_content='appointment. Please bring any medications or a list of the medicines that you are on to your \\nconsultation.', metadata={'source': 'C:\\\\Users\\\\Admin\\\\Desktop\\\\Aster\\\\FAQ Chatbot\\\\FAQ-Chatbot\\\\data\\\\dataset.pdf', 'page': 1}),\n",
       " Document(page_content='You can also discuss your concerns with the nurse during your pre -assessment appointment or', metadata={'source': 'C:\\\\Users\\\\Admin\\\\Desktop\\\\Aster\\\\FAQ Chatbot\\\\FAQ-Chatbot\\\\data\\\\dataset.pdf', 'page': 1}),\n",
       " Document(page_content='pre-assessmen t telephone call before your treatment. Our nurses will ensure that you receive', metadata={'source': 'C:\\\\Users\\\\Admin\\\\Desktop\\\\Aster\\\\FAQ Chatbot\\\\FAQ-Chatbot\\\\data\\\\dataset.pdf', 'page': 1}),\n",
       " Document(page_content='suitable guidance before your treatment. If needed, they will also liaise with your consultant and \\nanaesthetist.', metadata={'source': 'C:\\\\Users\\\\Admin\\\\Desktop\\\\Aster\\\\FAQ Chatbot\\\\FAQ-Chatbot\\\\data\\\\dataset.pdf', 'page': 1}),\n",
       " Document(page_content='You can discuss your medication or medical conditions with you r consultant during your initial', metadata={'source': 'C:\\\\Users\\\\Admin\\\\Desktop\\\\Aster\\\\FAQ Chatbot\\\\FAQ-Chatbot\\\\data\\\\dataset.pdf', 'page': 1}),\n",
       " Document(page_content='appointment. Please bring any medications or a list of the medicines that you are on to your \\nconsultation.', metadata={'source': 'C:\\\\Users\\\\Admin\\\\Desktop\\\\Aster\\\\FAQ Chatbot\\\\FAQ-Chatbot\\\\data\\\\dataset.pdf', 'page': 1}),\n",
       " Document(page_content='You can also discuss your concerns with the nurse during your pre -assessment appointment or', metadata={'source': 'C:\\\\Users\\\\Admin\\\\Desktop\\\\Aster\\\\FAQ Chatbot\\\\FAQ-Chatbot\\\\data\\\\dataset.pdf', 'page': 1}),\n",
       " Document(page_content='pre-assessment telephone  call before your treatment. Our nurses will ensure that you receive', metadata={'source': 'C:\\\\Users\\\\Admin\\\\Desktop\\\\Aster\\\\FAQ Chatbot\\\\FAQ-Chatbot\\\\data\\\\dataset.pdf', 'page': 1}),\n",
       " Document(page_content='suitable guidance before your treatment. If needed, they will also liaise with your consultant and \\nanaesthetist.', metadata={'source': 'C:\\\\Users\\\\Admin\\\\Desktop\\\\Aster\\\\FAQ Chatbot\\\\FAQ-Chatbot\\\\data\\\\dataset.pdf', 'page': 1}),\n",
       " Document(page_content='Yes, please let the team know your requirements and we will send you all information in your \\npreferred format.', metadata={'source': 'C:\\\\Users\\\\Admin\\\\Desktop\\\\Aster\\\\FAQ Chatbot\\\\FAQ-Chatbot\\\\data\\\\dataset.pdf', 'page': 1}),\n",
       " Document(page_content='Please let our team know your requirements and they will provide you with further information. All', metadata={'source': 'C:\\\\Users\\\\Admin\\\\Desktop\\\\Aster\\\\FAQ Chatbot\\\\FAQ-Chatbot\\\\data\\\\dataset.pdf', 'page': 1}),\n",
       " Document(page_content='clinical information must be provided to you accurately so that you can make an informed decision \\nabout your treatment .', metadata={'source': 'C:\\\\Users\\\\Admin\\\\Desktop\\\\Aster\\\\FAQ Chatbot\\\\FAQ-Chatbot\\\\data\\\\dataset.pdf', 'page': 1}),\n",
       " Document(page_content='To ensure you get the most out of your appointment, we recommend that you do not bring young', metadata={'source': 'C:\\\\Users\\\\Admin\\\\Desktop\\\\Aster\\\\FAQ Chatbot\\\\FAQ-Chatbot\\\\data\\\\dataset.pdf', 'page': 1}),\n",
       " Document(page_content='children with you. You may be required to have tests completed and therefore the environment \\nmay not be suitable.', metadata={'source': 'C:\\\\Users\\\\Admin\\\\Desktop\\\\Aster\\\\FAQ Chatbot\\\\FAQ-Chatbot\\\\data\\\\dataset.pdf', 'page': 1}),\n",
       " Document(page_content='We understand how important the support of fam ily and friends is, so we aim to be flexible with', metadata={'source': 'C:\\\\Users\\\\Admin\\\\Desktop\\\\Aster\\\\FAQ Chatbot\\\\FAQ-Chatbot\\\\data\\\\dataset.pdf', 'page': 1}),\n",
       " Document(page_content='our visiting hours. Please check with the relevant hospital to confirm their specific visitor policy.', metadata={'source': 'C:\\\\Users\\\\Admin\\\\Desktop\\\\Aster\\\\FAQ Chatbot\\\\FAQ-Chatbot\\\\data\\\\dataset.pdf', 'page': 1}),\n",
       " Document(page_content='Please inform the nurse if you have any allergies including latex when you arrive at your \\nappointment.', metadata={'source': 'C:\\\\Users\\\\Admin\\\\Desktop\\\\Aster\\\\FAQ Chatbot\\\\FAQ-Chatbot\\\\data\\\\dataset.pdf', 'page': 1}),\n",
       " Document(page_content='You can discuss allergies and special requirements with your consultant during your initial \\nconsultation.', metadata={'source': 'C:\\\\Users\\\\Admin\\\\Desktop\\\\Aster\\\\FAQ Chatbot\\\\FAQ-Chatbot\\\\data\\\\dataset.pdf', 'page': 2}),\n",
       " Document(page_content='Our pre -assessment nurse will discuss allergies and special requirements with you during your', metadata={'source': 'C:\\\\Users\\\\Admin\\\\Desktop\\\\Aster\\\\FAQ Chatbot\\\\FAQ-Chatbot\\\\data\\\\dataset.pdf', 'page': 2}),\n",
       " Document(page_content='pre-assessment appointment or pre -assessment telephone assessment before your admission.', metadata={'source': 'C:\\\\Users\\\\Admin\\\\Desktop\\\\Aster\\\\FAQ Chatbot\\\\FAQ-Chatbot\\\\data\\\\dataset.pdf', 'page': 2}),\n",
       " Document(page_content='Yes, most patients will have a private room. Some of our hospitals have an ambulatory care suite', metadata={'source': 'C:\\\\Users\\\\Admin\\\\Desktop\\\\Aster\\\\FAQ Chatbot\\\\FAQ-Chatbot\\\\data\\\\dataset.pdf', 'page': 2}),\n",
       " Document(page_content='for patients, who need minor procedures without general anaesthetic.', metadata={'source': 'C:\\\\Users\\\\Admin\\\\Desktop\\\\Aster\\\\FAQ Chatbot\\\\FAQ-Chatbot\\\\data\\\\dataset.pdf', 'page': 2}),\n",
       " Document(page_content='If you are looking into treatments, these are some ter ms that you will come across:', metadata={'source': 'C:\\\\Users\\\\Admin\\\\Desktop\\\\Aster\\\\FAQ Chatbot\\\\FAQ-Chatbot\\\\data\\\\dataset.pdf', 'page': 2}),\n",
       " Document(page_content='Outpatient – a patient who comes in (attends) for a short consultation – this could also be a test, \\na minor treatment or a scan.', metadata={'source': 'C:\\\\Users\\\\Admin\\\\Desktop\\\\Aster\\\\FAQ Chatbot\\\\FAQ-Chatbot\\\\data\\\\dataset.pdf', 'page': 2}),\n",
       " Document(page_content='Day case – a patient who is admitted to the ward for a procedure. This may require some recovery', metadata={'source': 'C:\\\\Users\\\\Admin\\\\Desktop\\\\Aster\\\\FAQ Chatbot\\\\FAQ-Chatbot\\\\data\\\\dataset.pdf', 'page': 2}),\n",
       " Document(page_content='time but patients should be able to go home on the same day. There may be some assessment \\nor preparation before admission.', metadata={'source': 'C:\\\\Users\\\\Admin\\\\Desktop\\\\Aster\\\\FAQ Chatbot\\\\FAQ-Chatbot\\\\data\\\\dataset.pdf', 'page': 2}),\n",
       " Document(page_content='Inpatient – a patient who stays in the hospital for one or more nights. There may be some \\nassessment or preparation before admission.', metadata={'source': 'C:\\\\Users\\\\Admin\\\\Desktop\\\\Aster\\\\FAQ Chatbot\\\\FAQ-Chatbot\\\\data\\\\dataset.pdf', 'page': 2}),\n",
       " Document(page_content='We have a wide range of tests and scans available at our hospitals.', metadata={'source': 'C:\\\\Users\\\\Admin\\\\Desktop\\\\Aster\\\\FAQ Chatbot\\\\FAQ-Chatbot\\\\data\\\\dataset.pdf', 'page': 2}),\n",
       " Document(page_content='Yes, you can. Our price will include the cost of the test or scan, and the report. Reporting will be', metadata={'source': 'C:\\\\Users\\\\Admin\\\\Desktop\\\\Aster\\\\FAQ Chatbot\\\\FAQ-Chatbot\\\\data\\\\dataset.pdf', 'page': 2}),\n",
       " Document(page_content='provided by some of the UK’s most qualified Radiologists and Pathologists.', metadata={'source': 'C:\\\\Users\\\\Admin\\\\Desktop\\\\Aster\\\\FAQ Chatbot\\\\FAQ-Chatbot\\\\data\\\\dataset.pdf', 'page': 2}),\n",
       " Document(page_content='Click here to view the prices of our most popular tests and scans at your chosen Nuffield Health \\nhospital.', metadata={'source': 'C:\\\\Users\\\\Admin\\\\Desktop\\\\Aster\\\\FAQ Chatbot\\\\FAQ-Chatbot\\\\data\\\\dataset.pdf', 'page': 2}),\n",
       " Document(page_content='This will vary depending on the scan you require and the availability of our consultant radiologists,', metadata={'source': 'C:\\\\Users\\\\Admin\\\\Desktop\\\\Aster\\\\FAQ Chatbot\\\\FAQ-Chatbot\\\\data\\\\dataset.pdf', 'page': 2}),\n",
       " Document(page_content='however we endeavour to book appointments as q uickly as possible.', metadata={'source': 'C:\\\\Users\\\\Admin\\\\Desktop\\\\Aster\\\\FAQ Chatbot\\\\FAQ-Chatbot\\\\data\\\\dataset.pdf', 'page': 2}),\n",
       " Document(page_content='Yes, please let us know where and when you had your test or scan taken as soon as possible', metadata={'source': 'C:\\\\Users\\\\Admin\\\\Desktop\\\\Aster\\\\FAQ Chatbot\\\\FAQ-Chatbot\\\\data\\\\dataset.pdf', 'page': 2}),\n",
       " Document(page_content='and our team will do their best to obtain your results ready for your consultant to view.  \\n \\nWe have a radiology department in all our hospitals.', metadata={'source': 'C:\\\\Users\\\\Admin\\\\Desktop\\\\Aster\\\\FAQ Chatbot\\\\FAQ-Chatbot\\\\data\\\\dataset.pdf', 'page': 2}),\n",
       " Document(page_content='To book a scan, you will first need to obtain a referral from a suitable health -care professional.', metadata={'source': 'C:\\\\Users\\\\Admin\\\\Desktop\\\\Aster\\\\FAQ Chatbot\\\\FAQ-Chatbot\\\\data\\\\dataset.pdf', 'page': 2}),\n",
       " Document(page_content='Your health -care professional will either send your referral directly to your chosen Nuffield Health', metadata={'source': 'C:\\\\Users\\\\Admin\\\\Desktop\\\\Aster\\\\FAQ Chatbot\\\\FAQ-Chatbot\\\\data\\\\dataset.pdf', 'page': 2}),\n",
       " Document(page_content='Radiology department, or they may provide you with the referral. If this is the case, you can email', metadata={'source': 'C:\\\\Users\\\\Admin\\\\Desktop\\\\Aster\\\\FAQ Chatbot\\\\FAQ-Chatbot\\\\data\\\\dataset.pdf', 'page': 2}),\n",
       " Document(page_content='your referral to us. Once your referral has been reviewed, a member of the team will contact you', metadata={'source': 'C:\\\\Users\\\\Admin\\\\Desktop\\\\Aster\\\\FAQ Chatbot\\\\FAQ-Chatbot\\\\data\\\\dataset.pdf', 'page': 2}),\n",
       " Document(page_content='via phone call to book a suitable appointment for you.', metadata={'source': 'C:\\\\Users\\\\Admin\\\\Desktop\\\\Aster\\\\FAQ Chatbot\\\\FAQ-Chatbot\\\\data\\\\dataset.pdf', 'page': 2}),\n",
       " Document(page_content='Some scans do require specific preparation. This will be d iscussed with you when you book your', metadata={'source': 'C:\\\\Users\\\\Admin\\\\Desktop\\\\Aster\\\\FAQ Chatbot\\\\FAQ-Chatbot\\\\data\\\\dataset.pdf', 'page': 2}),\n",
       " Document(page_content='appointment and will be confirmed in your appointment confirmation. If you have booked a scan', metadata={'source': 'C:\\\\Users\\\\Admin\\\\Desktop\\\\Aster\\\\FAQ Chatbot\\\\FAQ-Chatbot\\\\data\\\\dataset.pdf', 'page': 2}),\n",
       " Document(page_content='and have any questions regarding your preparation instructions, please contact your hospital via \\nphone or email.', metadata={'source': 'C:\\\\Users\\\\Admin\\\\Desktop\\\\Aster\\\\FAQ Chatbot\\\\FAQ-Chatbot\\\\data\\\\dataset.pdf', 'page': 2}),\n",
       " Document(page_content='Once your s can has been completed, our Radiologists will report on your results. The report will', metadata={'source': 'C:\\\\Users\\\\Admin\\\\Desktop\\\\Aster\\\\FAQ Chatbot\\\\FAQ-Chatbot\\\\data\\\\dataset.pdf', 'page': 3}),\n",
       " Document(page_content='be sent to your referring health -care professional within approximately one week of your', metadata={'source': 'C:\\\\Users\\\\Admin\\\\Desktop\\\\Aster\\\\FAQ Chatbot\\\\FAQ-Chatbot\\\\data\\\\dataset.pdf', 'page': 3}),\n",
       " Document(page_content='appointment. Reporting times may vary for specialist examinations, so we recommen d checking', metadata={'source': 'C:\\\\Users\\\\Admin\\\\Desktop\\\\Aster\\\\FAQ Chatbot\\\\FAQ-Chatbot\\\\data\\\\dataset.pdf', 'page': 3}),\n",
       " Document(page_content='with the hospital team before you leave. Your health -care professional will be responsible for \\nrelaying the results to you.', metadata={'source': 'C:\\\\Users\\\\Admin\\\\Desktop\\\\Aster\\\\FAQ Chatbot\\\\FAQ-Chatbot\\\\data\\\\dataset.pdf', 'page': 3}),\n",
       " Document(page_content='Due to the medical nature of reports, your results need to be interpreted and relayed to you by a', metadata={'source': 'C:\\\\Users\\\\Admin\\\\Desktop\\\\Aster\\\\FAQ Chatbot\\\\FAQ-Chatbot\\\\data\\\\dataset.pdf', 'page': 3}),\n",
       " Document(page_content='health -care profession al. For this reason, we are unable to provide reports direactly to patients', metadata={'source': 'C:\\\\Users\\\\Admin\\\\Desktop\\\\Aster\\\\FAQ Chatbot\\\\FAQ-Chatbot\\\\data\\\\dataset.pdf', 'page': 3}),\n",
       " Document(page_content='until we have received confirmation that your referring clinician has relayed your results to you.', metadata={'source': 'C:\\\\Users\\\\Admin\\\\Desktop\\\\Aster\\\\FAQ Chatbot\\\\FAQ-Chatbot\\\\data\\\\dataset.pdf', 'page': 3})]"
      ]
     },
     "execution_count": 33,
     "metadata": {},
     "output_type": "execute_result"
    }
   ],
   "source": [
    "text_split_chunks"
   ]
  },
  {
   "cell_type": "code",
   "execution_count": 34,
   "metadata": {},
   "outputs": [
    {
     "name": "stdout",
     "output_type": "stream",
     "text": [
      "84\n"
     ]
    }
   ],
   "source": [
    "print(len(text_split_chunks))"
   ]
  },
  {
   "cell_type": "code",
   "execution_count": 35,
   "metadata": {},
   "outputs": [],
   "source": [
    "def text_to_embeddings():\n",
    "    embeddings = HuggingFaceEmbeddings(model_name=\"sentence-transformers/all-MiniLM-L6-v2\")\n",
    "    return embeddings"
   ]
  },
  {
   "cell_type": "code",
   "execution_count": 36,
   "metadata": {},
   "outputs": [
    {
     "name": "stderr",
     "output_type": "stream",
     "text": [
      "c:\\Users\\Admin\\Desktop\\Aster\\FAQ Chatbot\\FAQ-Chatbot\\chatbot\\lib\\site-packages\\huggingface_hub\\file_download.py:1132: FutureWarning: `resume_download` is deprecated and will be removed in version 1.0.0. Downloads always resume when possible. If you want to force a new download, use `force_download=True`.\n",
      "  warnings.warn(\n"
     ]
    }
   ],
   "source": [
    "embeddings = text_to_embeddings()"
   ]
  },
  {
   "cell_type": "code",
   "execution_count": 37,
   "metadata": {},
   "outputs": [
    {
     "data": {
      "text/plain": [
       "HuggingFaceEmbeddings(client=SentenceTransformer(\n",
       "  (0): Transformer({'max_seq_length': 256, 'do_lower_case': False}) with Transformer model: BertModel \n",
       "  (1): Pooling({'word_embedding_dimension': 384, 'pooling_mode_cls_token': False, 'pooling_mode_mean_tokens': True, 'pooling_mode_max_tokens': False, 'pooling_mode_mean_sqrt_len_tokens': False, 'pooling_mode_weightedmean_tokens': False, 'pooling_mode_lasttoken': False, 'include_prompt': True})\n",
       "  (2): Normalize()\n",
       "), model_name='sentence-transformers/all-MiniLM-L6-v2', cache_folder=None, model_kwargs={}, encode_kwargs={}, multi_process=False, show_progress=False)"
      ]
     },
     "execution_count": 37,
     "metadata": {},
     "output_type": "execute_result"
    }
   ],
   "source": [
    "embeddings"
   ]
  },
  {
   "cell_type": "code",
   "execution_count": 38,
   "metadata": {},
   "outputs": [],
   "source": [
    "persist_directory = 'chat'\n",
    "\n",
    "vectordb = chroma.Chroma.from_documents(documents=text_split_chunks, embedding=embeddings, persist_directory=persist_directory)"
   ]
  },
  {
   "cell_type": "code",
   "execution_count": 39,
   "metadata": {},
   "outputs": [],
   "source": [
    "vectordb.persist()\n",
    "vectordb = None"
   ]
  },
  {
   "cell_type": "code",
   "execution_count": 40,
   "metadata": {},
   "outputs": [],
   "source": [
    "vectordb = chroma.Chroma(persist_directory=persist_directory, embedding_function=embeddings)"
   ]
  },
  {
   "cell_type": "code",
   "execution_count": 41,
   "metadata": {},
   "outputs": [],
   "source": [
    "retriever = vectordb.as_retriever()"
   ]
  },
  {
   "cell_type": "code",
   "execution_count": 42,
   "metadata": {},
   "outputs": [],
   "source": [
    "docsearch = retriever.get_relevant_documents('Do I need a referral from my GP?')"
   ]
  },
  {
   "cell_type": "code",
   "execution_count": 43,
   "metadata": {},
   "outputs": [
    {
     "name": "stdout",
     "output_type": "stream",
     "text": [
      "[Document(page_content='A GP referral is required for most procedures as this will ensure that you are booked in for the', metadata={'page': 0, 'source': '/home/pheonix/Aster/FAQ-Chatbot/data/dataset.pdf'}), Document(page_content='A GP referral is required for most procedures as this will ensure that you are booked in for the', metadata={'page': 0, 'source': 'C:\\\\Users\\\\Admin\\\\Desktop\\\\Aster\\\\FAQ Chatbot\\\\FAQ-Chatbot\\\\data\\\\dataset.pdf'}), Document(page_content='A GP referral is required for most procedures as this will ensure that you are booked in for the', metadata={'page': 0, 'source': 'C:\\\\Users\\\\Admin\\\\Desktop\\\\Aster\\\\FAQ Chatbot\\\\FAQ-Chatbot\\\\data\\\\dataset.pdf'}), Document(page_content='A GP referral is required for most procedures as this will ensure that you are booked in for the', metadata={'page': 0, 'source': 'C:\\\\Users\\\\Admin\\\\Desktop\\\\Aster\\\\FAQ Chatbot\\\\FAQ-Chatbot\\\\data\\\\dataset.pdf'})]\n"
     ]
    }
   ],
   "source": [
    "len(docsearch)\n",
    "print(docsearch)"
   ]
  },
  {
   "cell_type": "code",
   "execution_count": 44,
   "metadata": {},
   "outputs": [],
   "source": [
    "retriever = vectordb.as_retriever(search_kwargs={'k':4})"
   ]
  },
  {
   "cell_type": "code",
   "execution_count": 45,
   "metadata": {},
   "outputs": [
    {
     "data": {
      "text/plain": [
       "'similarity'"
      ]
     },
     "execution_count": 45,
     "metadata": {},
     "output_type": "execute_result"
    }
   ],
   "source": [
    "retriever.search_type"
   ]
  },
  {
   "cell_type": "code",
   "execution_count": 46,
   "metadata": {},
   "outputs": [
    {
     "data": {
      "text/plain": [
       "{'k': 4}"
      ]
     },
     "execution_count": 46,
     "metadata": {},
     "output_type": "execute_result"
    }
   ],
   "source": [
    "retriever.search_kwargs"
   ]
  },
  {
   "cell_type": "code",
   "execution_count": 47,
   "metadata": {},
   "outputs": [],
   "source": [
    "prompt_template=\"\"\"\n",
    "Use the following pieces of information to answer the user's question. You are a FAQ chatbot for Nuffield Health Hostipal.\n",
    "If you don't know the answer, just say that to contact the helpline number. Not to ask for phone number\n",
    "\n",
    "Context: {context}\n",
    "Question: {question}\n",
    "\n",
    "Only return the helpful answer below and nothing else.\n",
    "Helpful answer:\n",
    "\"\"\""
   ]
  },
  {
   "cell_type": "code",
   "execution_count": 48,
   "metadata": {},
   "outputs": [],
   "source": [
    "PROMPT=PromptTemplate(template=prompt_template, input_variables=[\"context\", \"question\"])\n",
    "chain_type_kwargs={\"prompt\": PROMPT}"
   ]
  },
  {
   "cell_type": "code",
   "execution_count": 49,
   "metadata": {},
   "outputs": [],
   "source": [
    "llm=ctransformers.CTransformers(model=r\"C:\\Users\\Admin\\Desktop\\Aster\\FAQ Chatbot\\FAQ-Chatbot\\model\\llama-2-7b-chat.ggmlv3.q4_0.bin\",\n",
    "                  model_type=\"llama\",\n",
    "                  config={'max_new_tokens':512,\n",
    "                          'temperature':0.7})"
   ]
  },
  {
   "cell_type": "code",
   "execution_count": 51,
   "metadata": {},
   "outputs": [],
   "source": [
    "qa=RetrievalQA.from_chain_type(\n",
    "    llm=llm, \n",
    "    chain_type=\"stuff\", \n",
    "    retriever=vectordb.as_retriever(search_kwargs={'k': 5}),\n",
    "    return_source_documents=True, \n",
    "    chain_type_kwargs=chain_type_kwargs)"
   ]
  },
  {
   "cell_type": "code",
   "execution_count": 52,
   "metadata": {},
   "outputs": [
    {
     "name": "stderr",
     "output_type": "stream",
     "text": [
      "c:\\Users\\Admin\\Desktop\\Aster\\FAQ Chatbot\\FAQ-Chatbot\\chatbot\\lib\\site-packages\\langchain_core\\_api\\deprecation.py:119: LangChainDeprecationWarning: The method `Chain.__call__` was deprecated in langchain 0.1.0 and will be removed in 0.2.0. Use invoke instead.\n",
      "  warn_deprecated(\n"
     ]
    },
    {
     "name": "stdout",
     "output_type": "stream",
     "text": [
      "Response :  Yes, most procedures at Nuffield Health Hospital require a GP referral. This will ensure that you are booked in for the appropriate specialty. There may be some treatments where a referral is not needed, so please check with our helpline for more information.\n"
     ]
    }
   ],
   "source": [
    "while True:\n",
    "    user_input=input(f\"Input Prompt:\")\n",
    "    result=qa({\"query\": user_input})\n",
    "    print(\"Response : \", result[\"result\"])"
   ]
  }
 ],
 "metadata": {
  "kernelspec": {
   "display_name": "Python 3",
   "language": "python",
   "name": "python3"
  },
  "language_info": {
   "codemirror_mode": {
    "name": "ipython",
    "version": 3
   },
   "file_extension": ".py",
   "mimetype": "text/x-python",
   "name": "python",
   "nbconvert_exporter": "python",
   "pygments_lexer": "ipython3",
   "version": "3.10.10"
  }
 },
 "nbformat": 4,
 "nbformat_minor": 2
}
